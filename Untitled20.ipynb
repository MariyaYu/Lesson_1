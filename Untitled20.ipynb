{
  "nbformat": 4,
  "nbformat_minor": 0,
  "metadata": {
    "colab": {
      "provenance": [],
      "authorship_tag": "ABX9TyO7edY+OXWmbpwHo68uHRJo",
      "include_colab_link": true
    },
    "kernelspec": {
      "name": "python3",
      "display_name": "Python 3"
    },
    "language_info": {
      "name": "python"
    }
  },
  "cells": [
    {
      "cell_type": "markdown",
      "metadata": {
        "id": "view-in-github",
        "colab_type": "text"
      },
      "source": [
        "<a href=\"https://colab.research.google.com/github/MariyaYu/Lesson_1/blob/main/Untitled20.ipynb\" target=\"_parent\"><img src=\"https://colab.research.google.com/assets/colab-badge.svg\" alt=\"Open In Colab\"/></a>"
      ]
    },
    {
      "cell_type": "code",
      "execution_count": 2,
      "metadata": {
        "id": "Eqo1gTZR-XUM"
      },
      "outputs": [],
      "source": [
        "import pandas as pd\n",
        "import matplotlib.pyplot as plt\n",
        "import seaborn as sns\n",
        "import numpy as np\n",
        "import scipy.stats\n",
        "import yfinance as yf\n",
        "import requests\n",
        "from scipy.stats import shapiro\n",
        "from scipy.stats import anderson\n",
        "from scipy.stats import kstest\n",
        "from scipy.stats import mannwhitneyu"
      ]
    },
    {
      "cell_type": "code",
      "source": [
        "import dask.bag as db"
      ],
      "metadata": {
        "id": "Q45YqmuPILLr"
      },
      "execution_count": 8,
      "outputs": []
    },
    {
      "cell_type": "code",
      "source": [
        "import string\n",
        "import pymorphy2\n",
        "morph = pymorphy2.MorphAnalyzer()"
      ],
      "metadata": {
        "id": "d4sYaGYIKj_C"
      },
      "execution_count": 18,
      "outputs": []
    },
    {
      "cell_type": "code",
      "source": [
        "data = db.read_text('input.txt').str.split().str.split('\\n')"
      ],
      "metadata": {
        "id": "aPhghgM7AZiT"
      },
      "execution_count": 9,
      "outputs": []
    },
    {
      "cell_type": "code",
      "source": [
        "def process_text(data):\n",
        "  text=data\n",
        "  words=text.lower().translate(str.maketrans(\",\", string.punctuation)).split()\n",
        "  lemmatized_words=[morph.parse(word)[0].normal_form for word in words]\n",
        "  return[word for word in  lemmatized_words if len(word)>=3]"
      ],
      "metadata": {
        "id": "d2zCL3ovLxNH"
      },
      "execution_count": 19,
      "outputs": []
    },
    {
      "cell_type": "code",
      "source": [
        "bag=db.from_sequence([data])"
      ],
      "metadata": {
        "id": "YVWkUYSGPGkq"
      },
      "execution_count": 20,
      "outputs": []
    },
    {
      "cell_type": "code",
      "source": [
        "keywords = bag.flatten().map(process_text)"
      ],
      "metadata": {
        "id": "rzmgEH2-Ii6P"
      },
      "execution_count": 21,
      "outputs": []
    }
  ]
}